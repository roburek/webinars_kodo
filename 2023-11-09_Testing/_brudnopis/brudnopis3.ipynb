{
 "cells": [
  {
   "cell_type": "code",
   "execution_count": 25,
   "id": "initial_id",
   "metadata": {
    "ExecuteTime": {
     "end_time": "2023-11-09T13:08:31.518530Z",
     "start_time": "2023-11-09T13:08:31.511745Z"
    }
   },
   "outputs": [],
   "source": [
    "import pandas as pd\n",
    "from doctest import testmod as run_tests"
   ]
  },
  {
   "cell_type": "code",
   "execution_count": 26,
   "id": "abdb48b96393b945",
   "metadata": {
    "collapsed": false,
    "ExecuteTime": {
     "end_time": "2023-11-09T13:08:32.388598Z",
     "start_time": "2023-11-09T13:08:32.147190Z"
    }
   },
   "outputs": [],
   "source": [
    "data = pd.read_csv('https://python3.info/_static/phones-pl.csv', index_col='datetime', parse_dates=['datetime'])"
   ]
  },
  {
   "cell_type": "code",
   "execution_count": 51,
   "id": "72cb56b22504493a",
   "metadata": {
    "collapsed": false,
    "ExecuteTime": {
     "end_time": "2023-11-09T13:23:58.154876Z",
     "start_time": "2023-11-09T13:23:58.142420Z"
    }
   },
   "outputs": [
    {
     "ename": "SyntaxError",
     "evalue": "expected ':' (1332473567.py, line 1)",
     "output_type": "error",
     "traceback": [
      "\u001B[1;36m  Cell \u001B[1;32mIn[51], line 1\u001B[1;36m\u001B[0m\n\u001B[1;33m    def clean(df: pd.DataFrame, date: str) -?:\u001B[0m\n\u001B[1;37m                                           ^\u001B[0m\n\u001B[1;31mSyntaxError\u001B[0m\u001B[1;31m:\u001B[0m expected ':'\n"
     ]
    }
   ],
   "source": [
    "def clean(df: pd.DataFrame, date: str) -> pd.DataFrame:\n",
    "    \"\"\"\n",
    "    >>> result = clean(data, '2000-01-01')\n",
    "    \n",
    "    >>> result.columns\n",
    "    Index(['period', 'network', 'item', 'type', 'duration'], dtype='object')\n",
    "    \n",
    "    >>> result.dtypes\n",
    "    period      object\n",
    "    network     object\n",
    "    item        object\n",
    "    type        object\n",
    "    duration     int64\n",
    "    dtype: object\n",
    "    \n",
    "    >>> result.size\n",
    "    5\n",
    "    \n",
    "    >>> len(result)\n",
    "    1\n",
    "    \"\"\"\n",
    "    return (df\n",
    "            .drop(columns=['id'])\n",
    "            .astype({'duration': 'int64'})\n",
    "            .loc[date]\n",
    "    )\n",
    "\n",
    "\n",
    "run_tests()"
   ]
  },
  {
   "cell_type": "code",
   "execution_count": 52,
   "id": "abe377e85ea8427b",
   "metadata": {
    "collapsed": false,
    "ExecuteTime": {
     "end_time": "2023-11-09T13:24:15.986784Z",
     "start_time": "2023-11-09T13:24:15.981873Z"
    }
   },
   "outputs": [],
   "source": [
    "result = clean(data, '2000-01')"
   ]
  },
  {
   "cell_type": "code",
   "execution_count": null,
   "outputs": [],
   "source": [],
   "metadata": {
    "collapsed": false
   },
   "id": "712d0f6dbd7d12f0"
  },
  {
   "cell_type": "code",
   "execution_count": null,
   "outputs": [],
   "source": [],
   "metadata": {
    "collapsed": false
   },
   "id": "44fd521900c28cef"
  }
 ],
 "metadata": {
  "kernelspec": {
   "display_name": "Python 3 (ipykernel)",
   "language": "python",
   "name": "python3"
  },
  "language_info": {
   "codemirror_mode": {
    "name": "ipython",
    "version": 3
   },
   "file_extension": ".py",
   "mimetype": "text/x-python",
   "name": "python",
   "nbconvert_exporter": "python",
   "pygments_lexer": "ipython3",
   "version": "3.12.0"
  }
 },
 "nbformat": 4,
 "nbformat_minor": 5
}
